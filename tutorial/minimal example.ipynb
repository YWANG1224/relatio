{
 "cells": [
  {
   "cell_type": "code",
   "execution_count": 1,
   "id": "5f643a5a",
   "metadata": {},
   "outputs": [
    {
     "data": {
      "text/html": [
       "<div>\n",
       "<style scoped>\n",
       "    .dataframe tbody tr th:only-of-type {\n",
       "        vertical-align: middle;\n",
       "    }\n",
       "\n",
       "    .dataframe tbody tr th {\n",
       "        vertical-align: top;\n",
       "    }\n",
       "\n",
       "    .dataframe thead th {\n",
       "        text-align: right;\n",
       "    }\n",
       "</style>\n",
       "<table border=\"1\" class=\"dataframe\">\n",
       "  <thead>\n",
       "    <tr style=\"text-align: right;\">\n",
       "      <th></th>\n",
       "      <th>doc</th>\n",
       "      <th>id</th>\n",
       "    </tr>\n",
       "  </thead>\n",
       "  <tbody>\n",
       "    <tr>\n",
       "      <th>0</th>\n",
       "      <td>Wolves eat rabbits.</td>\n",
       "      <td>0</td>\n",
       "    </tr>\n",
       "    <tr>\n",
       "      <th>1</th>\n",
       "      <td>The wolf eats the rabbit.</td>\n",
       "      <td>1</td>\n",
       "    </tr>\n",
       "    <tr>\n",
       "      <th>2</th>\n",
       "      <td>Some wolves eat vegetables, but most wolves do...</td>\n",
       "      <td>2</td>\n",
       "    </tr>\n",
       "    <tr>\n",
       "      <th>3</th>\n",
       "      <td>Trees provide us with wood.</td>\n",
       "      <td>3</td>\n",
       "    </tr>\n",
       "    <tr>\n",
       "      <th>4</th>\n",
       "      <td>President Obama made great speeches.</td>\n",
       "      <td>4</td>\n",
       "    </tr>\n",
       "    <tr>\n",
       "      <th>5</th>\n",
       "      <td>Black men and women fight for their rights.</td>\n",
       "      <td>5</td>\n",
       "    </tr>\n",
       "  </tbody>\n",
       "</table>\n",
       "</div>"
      ],
      "text/plain": [
       "                                                 doc  id\n",
       "0                                Wolves eat rabbits.   0\n",
       "1                          The wolf eats the rabbit.   1\n",
       "2  Some wolves eat vegetables, but most wolves do...   2\n",
       "3                        Trees provide us with wood.   3\n",
       "4               President Obama made great speeches.   4\n",
       "5        Black men and women fight for their rights.   5"
      ]
     },
     "execution_count": 1,
     "metadata": {},
     "output_type": "execute_result"
    }
   ],
   "source": [
    "phrases = [\n",
    "    'Wolves eat rabbits.', \n",
    "    'The wolf eats the rabbit.', \n",
    "    'Some wolves eat vegetables, but most wolves do not eat vegetables.',\n",
    "    'Trees provide us with wood.',\n",
    "    'President Obama made great speeches.',\n",
    "    'Black men and women fight for their rights.'\n",
    "]\n",
    "\n",
    "import pandas as pd\n",
    "\n",
    "df = pd.DataFrame(phrases)\n",
    "\n",
    "df['id'] = df.index\n",
    "\n",
    "df.columns = ['doc', 'id']\n",
    "\n",
    "df"
   ]
  },
  {
   "cell_type": "code",
   "execution_count": 2,
   "id": "8013f0cc",
   "metadata": {},
   "outputs": [
    {
     "name": "stderr",
     "output_type": "stream",
     "text": [
      "/home/germain/Desktop/relatio/.tox/dev/lib/python3.7/site-packages/tqdm/auto.py:22: TqdmWarning: IProgress not found. Please update jupyter and ipywidgets. See https://ipywidgets.readthedocs.io/en/stable/user_install.html\n",
      "  from .autonotebook import tqdm as notebook_tqdm\n",
      "/home/germain/Desktop/relatio/.tox/dev/lib/python3.7/site-packages/torch/cuda/__init__.py:82: UserWarning: CUDA initialization: CUDA unknown error - this may be due to an incorrectly set up environment, e.g. changing env variable CUDA_VISIBLE_DEVICES after program start. Setting the available devices to be zero. (Triggered internally at  ../c10/cuda/CUDAFunctions.cpp:112.)\n",
      "  return torch._C._cuda_getDeviceCount() > 0\n"
     ]
    },
    {
     "name": "stdout",
     "output_type": "stream",
     "text": [
      "Splitting into sentences...\n"
     ]
    },
    {
     "name": "stderr",
     "output_type": "stream",
     "text": [
      "100%|████████████████████████████████████████████████████████████████████████████████████████████████████████████████████████████████████████████████████████████████████████| 6/6 [00:00<00:00, 37.23it/s]\n"
     ]
    }
   ],
   "source": [
    "from relatio import Preprocessor\n",
    "\n",
    "import string\n",
    "alphabet_string = string.ascii_lowercase\n",
    "alphabet_list = list(alphabet_string) + ['rt']\n",
    "\n",
    "import spacy    \n",
    "nlp = spacy.load(\"en_core_web_sm\")\n",
    "stop_words = list(nlp.Defaults.stop_words)\n",
    "\n",
    "stop_words = list(set(stop_words + alphabet_list))\n",
    "\n",
    "p = Preprocessor(\n",
    "    spacy_model = \"en_core_web_sm\",\n",
    "    remove_punctuation = True,\n",
    "    remove_digits = True,\n",
    "    lowercase = True,\n",
    "    lemmatize = True,\n",
    "    remove_chars = [\"\\\"\",'-',\"^\",\".\",\"?\",\"!\",\";\",\"(\",\")\",\",\",\":\",\"\\'\",\"+\",\"&\",\"|\",\"/\",\"{\",\"}\",\n",
    "                    \"~\",\"_\",\"`\",\"[\",\"]\",\">\",\"<\",\"=\",\"*\",\"%\",\"$\",\"@\",\"#\",\"’\"],\n",
    "    stop_words = stop_words,\n",
    "    n_process = -1,\n",
    "    batch_size = 100\n",
    ")\n",
    "\n",
    "doc_index, sentences = p.split_into_sentences(\n",
    "    df, output_path = None, progress_bar = True\n",
    ")"
   ]
  },
  {
   "cell_type": "code",
   "execution_count": 3,
   "id": "6d20cd23",
   "metadata": {},
   "outputs": [
    {
     "name": "stdout",
     "output_type": "stream",
     "text": [
      "Running SRL...\n"
     ]
    },
    {
     "name": "stderr",
     "output_type": "stream",
     "text": [
      "100%|████████████████████████████████████████████████████████████████████████████████████████████████████████████████████████████████████████████████████████████████████████| 1/1 [00:00<00:00,  5.18it/s]\n"
     ]
    }
   ],
   "source": [
    "from relatio import SRL\n",
    "\n",
    "SRL = SRL(\n",
    "    path = \"https://storage.googleapis.com/allennlp-public-models/openie-model.2020.03.26.tar.gz\",\n",
    "    batch_size = 10,\n",
    "    cuda_device = -1\n",
    ")\n",
    "\n",
    "srl_res = SRL(sentences, progress_bar=True)"
   ]
  },
  {
   "cell_type": "code",
   "execution_count": 4,
   "id": "deee493f",
   "metadata": {},
   "outputs": [
    {
     "name": "stdout",
     "output_type": "stream",
     "text": [
      "Extracting semantic roles...\n"
     ]
    },
    {
     "name": "stderr",
     "output_type": "stream",
     "text": [
      "100%|█████████████████████████████████████████████████████████████████████████████████████████████████████████████████████████████████████████████████████████████████████| 6/6 [00:00<00:00, 14177.93it/s]"
     ]
    },
    {
     "name": "stdout",
     "output_type": "stream",
     "text": [
      "{'ARG0': 'Wolves', 'ARG1': 'rabbits', 'B-V': 'eat'}\n",
      "{'ARG0': 'The wolf', 'ARG1': 'the rabbit', 'B-V': 'eats'}\n",
      "{'ARG0': 'Some wolves', 'ARG1': 'vegetables', 'B-V': 'eat'}\n",
      "{'B-V': 'do'}\n",
      "{'ARG0': 'most wolves', 'ARG1': 'vegetables', 'B-V': 'eat', 'B-ARGM-NEG': True}\n"
     ]
    },
    {
     "name": "stderr",
     "output_type": "stream",
     "text": [
      "\n"
     ]
    }
   ],
   "source": [
    "from relatio import extract_roles\n",
    "\n",
    "roles, sentence_index = extract_roles(\n",
    "    srl_res, \n",
    "    used_roles = [\"ARG0\",\"B-V\",\"B-ARGM-NEG\",\"B-ARGM-MOD\",\"ARG1\",\"ARG2\"],\n",
    "    progress_bar = True\n",
    ")\n",
    "\n",
    "for d in roles[0:5]: print(d)"
   ]
  },
  {
   "cell_type": "code",
   "execution_count": 5,
   "id": "2b8333c3",
   "metadata": {},
   "outputs": [
    {
     "name": "stdout",
     "output_type": "stream",
     "text": [
      "Cleaning phrases for role ARG0...\n"
     ]
    },
    {
     "name": "stderr",
     "output_type": "stream",
     "text": [
      "100%|████████████████████████████████████████████████████████████████████████████████████████████████████████████████████████████████████████████████████████████████████████| 7/7 [00:00<00:00, 40.09it/s]\n"
     ]
    },
    {
     "name": "stdout",
     "output_type": "stream",
     "text": [
      "Cleaning phrases for role B-V...\n"
     ]
    },
    {
     "name": "stderr",
     "output_type": "stream",
     "text": [
      "100%|████████████████████████████████████████████████████████████████████████████████████████████████████████████████████████████████████████████████████████████████████████| 8/8 [00:00<00:00, 49.79it/s]\n"
     ]
    },
    {
     "name": "stdout",
     "output_type": "stream",
     "text": [
      "Cleaning phrases for role B-ARGM-MOD...\n"
     ]
    },
    {
     "name": "stderr",
     "output_type": "stream",
     "text": [
      "0it [00:00, ?it/s]\n"
     ]
    },
    {
     "name": "stdout",
     "output_type": "stream",
     "text": [
      "Cleaning phrases for role ARG1...\n"
     ]
    },
    {
     "name": "stderr",
     "output_type": "stream",
     "text": [
      "100%|████████████████████████████████████████████████████████████████████████████████████████████████████████████████████████████████████████████████████████████████████████| 6/6 [00:00<00:00, 37.41it/s]\n"
     ]
    },
    {
     "name": "stdout",
     "output_type": "stream",
     "text": [
      "Cleaning phrases for role ARG2...\n"
     ]
    },
    {
     "name": "stderr",
     "output_type": "stream",
     "text": [
      "100%|████████████████████████████████████████████████████████████████████████████████████████████████████████████████████████████████████████████████████████████████████████| 2/2 [00:00<00:00, 13.26it/s]"
     ]
    },
    {
     "name": "stdout",
     "output_type": "stream",
     "text": [
      "{'ARG0': 'wolf', 'B-V': 'eat', 'ARG1': 'rabbit'}\n",
      "{'ARG0': 'wolf', 'B-V': 'eat', 'ARG1': 'rabbit'}\n",
      "{'ARG0': 'wolf', 'B-V': 'eat', 'ARG1': 'vegetable'}\n",
      "{}\n",
      "{'ARG0': 'wolf', 'B-V': 'eat', 'B-ARGM-NEG': True, 'ARG1': 'vegetable'}\n",
      "{'ARG0': 'tree', 'B-V': 'provide', 'ARG1': 'wood'}\n",
      "{'ARG0': 'president obama', 'ARG1': 'speech'}\n",
      "{'ARG0': 'man woman', 'B-V': 'fight', 'ARG2': 'right'}\n"
     ]
    },
    {
     "name": "stderr",
     "output_type": "stream",
     "text": [
      "\n"
     ]
    }
   ],
   "source": [
    "postproc_roles = p.process_roles(roles, \n",
    "                                 dict_of_pos_tags_to_keep = {\n",
    "                                     \"ARG0\": ['PRON', 'NOUN', 'PROPN'],\n",
    "                                     \"B-V\": ['VERB'],\n",
    "                                     \"ARG1\": ['NOUN', 'PROPN', 'PRON']\n",
    "                                 }, \n",
    "                                 max_length = 50,\n",
    "                                 progress_bar = True,\n",
    "                                 output_path = 'postproc_roles.json')\n",
    "\n",
    "from relatio.utils import load_roles\n",
    "postproc_roles = load_roles('postproc_roles.json')\n",
    "\n",
    "for d in postproc_roles[0:10]: print(d)"
   ]
  },
  {
   "cell_type": "code",
   "execution_count": 6,
   "id": "23883a91",
   "metadata": {},
   "outputs": [
    {
     "name": "stdout",
     "output_type": "stream",
     "text": [
      "Mining named entities...\n"
     ]
    },
    {
     "name": "stderr",
     "output_type": "stream",
     "text": [
      "100%|████████████████████████████████████████████████████████████████████████████████████████████████████████████████████████████████████████████████████████████████████████| 6/6 [00:00<00:00, 40.09it/s]"
     ]
    },
    {
     "name": "stdout",
     "output_type": "stream",
     "text": [
      "('obama', 1)\n"
     ]
    },
    {
     "name": "stderr",
     "output_type": "stream",
     "text": [
      "\n"
     ]
    }
   ],
   "source": [
    "known_entities = p.mine_entities(\n",
    "    sentences, \n",
    "    clean_entities = True, \n",
    "    progress_bar = True,\n",
    "    output_path = 'entities.pkl'\n",
    ")\n",
    "\n",
    "from relatio.utils import load_entities\n",
    "known_entities = load_entities('entities.pkl')\n",
    "\n",
    "for n in known_entities.most_common(1): print(n)\n",
    "    \n",
    "top_known_entities = [e[0] for e in list(known_entities.most_common(1)) if e[0] != '']"
   ]
  },
  {
   "cell_type": "code",
   "execution_count": 7,
   "id": "4c03bc18",
   "metadata": {},
   "outputs": [],
   "source": [
    "from relatio.narrative_models_2 import NarrativeModel\n",
    "\n",
    "pca_args = {'n_components':2, 'random_state':0}"
   ]
  },
  {
   "cell_type": "code",
   "execution_count": 9,
   "id": "51abd498",
   "metadata": {},
   "outputs": [
    {
     "name": "stdout",
     "output_type": "stream",
     "text": [
      "Embedding phrases...\n",
      "Computing phrase embeddings...\n"
     ]
    },
    {
     "name": "stderr",
     "output_type": "stream",
     "text": [
      "100%|████████████████████████████████████████████████████████████████████████████████████████████████████████████████████████████████████████████████████████████████████████| 7/7 [00:00<00:00, 30.45it/s]\n",
      "/home/germain/Desktop/relatio/.tox/dev/lib/python3.7/site-packages/umap/umap_.py:2345: UserWarning: n_neighbors is larger than the dataset size; truncating to X.shape[0] - 1\n",
      "  \"n_neighbors is larger than the dataset size; truncating to \"\n"
     ]
    },
    {
     "name": "stdout",
     "output_type": "stream",
     "text": [
      "Clustering phrases into clusters...\n",
      "Labeling the clusters by the most frequent phrases...\n",
      "[0, 1]\n"
     ]
    },
    {
     "name": "stderr",
     "output_type": "stream",
     "text": [
      "/home/germain/Desktop/relatio/relatio/narrative_models_2.py:398: RuntimeWarning: Multiple labels for cluster 0- 2 shown: [('wood', 1), ('tree', 1)]. First one is picked.\n",
      "  RuntimeWarning,\n"
     ]
    }
   ],
   "source": [
    "cluster_args = {'min_samples':1,\n",
    "                'min_cluster_size':2,  \n",
    "                'cluster_selection_method' : 'eom',\n",
    "                'metric' : 'euclidean'}\n",
    "\n",
    "m2 = NarrativeModel(\n",
    "    model_type = 'hdbscan',\n",
    "    roles_considered = ['ARG0', 'B-V', 'B-ARGM-NEG', 'ARG1'],\n",
    "    roles_with_known_entities = ['ARG0','ARG1'],\n",
    "    known_entities = top_known_entities,\n",
    "    assignment_to_known_entities = 'character_matching',\n",
    "    roles_with_unknown_entities = ['ARG0','ARG1'],\n",
    "    threshold = 0.3\n",
    ")    \n",
    "\n",
    "m2.train(postproc_roles, pca_args = pca_args, cluster_args = cluster_args, progress_bar = True)"
   ]
  },
  {
   "cell_type": "code",
   "execution_count": 10,
   "id": "5e2162ac",
   "metadata": {},
   "outputs": [
    {
     "data": {
      "text/plain": [
       "{0: Counter({'wood': 1, 'tree': 1}),\n",
       " 1: Counter({'speech': 1,\n",
       "          'wolf': 4,\n",
       "          'rabbit': 2,\n",
       "          'vegetable': 2,\n",
       "          'man woman': 1})}"
      ]
     },
     "execution_count": 10,
     "metadata": {},
     "output_type": "execute_result"
    }
   ],
   "source": [
    "m2.vocab_unknown_entities"
   ]
  },
  {
   "cell_type": "code",
   "execution_count": 11,
   "id": "fb0cae6a",
   "metadata": {},
   "outputs": [
    {
     "name": "stdout",
     "output_type": "stream",
     "text": [
      "\n",
      "Predicting entities for role: ARG0...\n",
      "Matching known entities (with character matching)...\n"
     ]
    },
    {
     "name": "stderr",
     "output_type": "stream",
     "text": [
      "100%|█████████████████████████████████████████████████████████████████████████████████████████████████████████████████████████████████████████████████████████████████████| 7/7 [00:00<00:00, 28422.20it/s]\n"
     ]
    },
    {
     "name": "stdout",
     "output_type": "stream",
     "text": [
      "Matching unknown entities (with embeddings distance)...\n",
      "Computing phrase embeddings...\n"
     ]
    },
    {
     "name": "stderr",
     "output_type": "stream",
     "text": [
      "100%|███████████████████████████████████████████████████████████████████████████████████████████████████████████████████████████████████████████████████████████████████████| 7/7 [00:00<00:00, 235.50it/s]\n"
     ]
    },
    {
     "name": "stdout",
     "output_type": "stream",
     "text": [
      "Matching unknown entities (with embeddings distance)...\n",
      "Computing phrase embeddings...\n"
     ]
    },
    {
     "name": "stderr",
     "output_type": "stream",
     "text": [
      "100%|███████████████████████████████████████████████████████████████████████████████████████████████████████████████████████████████████████████████████████████████████████| 7/7 [00:00<00:00, 370.64it/s]\n"
     ]
    },
    {
     "name": "stdout",
     "output_type": "stream",
     "text": [
      "Assigning labels to matches...\n",
      "\n",
      "Predicting entities for role: ARG1...\n",
      "Matching known entities (with character matching)...\n"
     ]
    },
    {
     "name": "stderr",
     "output_type": "stream",
     "text": [
      "100%|████████████████████████████████████████████████████████████████████████████████████████████████████████████████████████████████████████████████████████████████████| 6/6 [00:00<00:00, 105738.76it/s]\n"
     ]
    },
    {
     "name": "stdout",
     "output_type": "stream",
     "text": [
      "Matching unknown entities (with embeddings distance)...\n",
      "Computing phrase embeddings...\n"
     ]
    },
    {
     "name": "stderr",
     "output_type": "stream",
     "text": [
      "100%|███████████████████████████████████████████████████████████████████████████████████████████████████████████████████████████████████████████████████████████████████████| 6/6 [00:00<00:00, 352.24it/s]\n"
     ]
    },
    {
     "name": "stdout",
     "output_type": "stream",
     "text": [
      "Matching unknown entities (with embeddings distance)...\n",
      "Computing phrase embeddings...\n"
     ]
    },
    {
     "name": "stderr",
     "output_type": "stream",
     "text": [
      "100%|███████████████████████████████████████████████████████████████████████████████████████████████████████████████████████████████████████████████████████████████████████| 6/6 [00:00<00:00, 375.19it/s]\n"
     ]
    },
    {
     "name": "stdout",
     "output_type": "stream",
     "text": [
      "Assigning labels to matches...\n"
     ]
    },
    {
     "data": {
      "text/plain": [
       "[{'ARG0': 'wolf', 'B-V': 'eat'},\n",
       " {'ARG0': 'wolf', 'B-V': 'eat'},\n",
       " {'ARG0': 'wolf', 'B-V': 'eat'},\n",
       " {},\n",
       " {'ARG0': 'wolf', 'B-V': 'eat', 'B-ARGM-NEG': True},\n",
       " {'ARG0': 'tree', 'B-V': 'provide'},\n",
       " {'ARG0': 'president obama'},\n",
       " {'ARG0': 'man woman', 'B-V': 'fight', 'ARG2': 'right'}]"
      ]
     },
     "execution_count": 11,
     "metadata": {},
     "output_type": "execute_result"
    }
   ],
   "source": [
    "m2.predict(postproc_roles, progress_bar = True)"
   ]
  },
  {
   "cell_type": "code",
   "execution_count": 12,
   "id": "53aa33e3",
   "metadata": {},
   "outputs": [
    {
     "data": {
      "text/plain": [
       "{0: 'wood', 1: 'wolf', -1: ''}"
      ]
     },
     "execution_count": 12,
     "metadata": {},
     "output_type": "execute_result"
    }
   ],
   "source": [
    "m2.labels_unknown_entities"
   ]
  },
  {
   "cell_type": "code",
   "execution_count": 13,
   "id": "52658a83",
   "metadata": {},
   "outputs": [
    {
     "name": "stdout",
     "output_type": "stream",
     "text": [
      "Embedding phrases...\n",
      "Computing phrase embeddings...\n"
     ]
    },
    {
     "name": "stderr",
     "output_type": "stream",
     "text": [
      "100%|████████████████████████████████████████████████████████████████████████████████████████████████████████████████████████████████████████████████████████████████████████| 7/7 [00:00<00:00, 25.64it/s]\n",
      "/home/germain/Desktop/relatio/.tox/dev/lib/python3.7/site-packages/umap/umap_.py:2345: UserWarning: n_neighbors is larger than the dataset size; truncating to X.shape[0] - 1\n",
      "  \"n_neighbors is larger than the dataset size; truncating to \"\n"
     ]
    },
    {
     "name": "stdout",
     "output_type": "stream",
     "text": [
      "Clustering phrases into clusters...\n",
      "Labeling the clusters by the most frequent phrases...\n",
      "[0, 1, 2]\n"
     ]
    },
    {
     "name": "stderr",
     "output_type": "stream",
     "text": [
      "/home/germain/Desktop/relatio/relatio/narrative_models_2.py:398: RuntimeWarning: Multiple labels for cluster 0- 2 shown: [('wood', 1), ('tree', 1)]. First one is picked.\n",
      "  RuntimeWarning,\n",
      "/home/germain/Desktop/relatio/relatio/narrative_models_2.py:398: RuntimeWarning: Multiple labels for cluster 1- 2 shown: [('speech', 1), ('man woman', 1)]. First one is picked.\n",
      "  RuntimeWarning,\n"
     ]
    }
   ],
   "source": [
    "#cluster_args = {'n_clusters':5, 'random_state':0}\n",
    "param_dist = [2,3,4,5]\n",
    "\n",
    "m2 = NarrativeModel(\n",
    "    model_type = 'kmeans',\n",
    "    roles_considered = ['ARG0', 'B-V', 'B-ARGM-NEG', 'ARG1'],\n",
    "    roles_with_known_entities = ['ARG0','ARG1'],\n",
    "    known_entities = top_known_entities,\n",
    "    assignment_to_known_entities = 'character_matching',\n",
    "    roles_with_unknown_entities = ['ARG0','ARG1'],\n",
    "    threshold = 0.3\n",
    ")    \n",
    "\n",
    "m2.train(postproc_roles, pca_args = pca_args, param_dist = param_dist, progress_bar = True)"
   ]
  },
  {
   "cell_type": "code",
   "execution_count": 14,
   "id": "f91a1e0c",
   "metadata": {},
   "outputs": [
    {
     "data": {
      "text/plain": [
       "{0: Counter({'wood': 1, 'tree': 1}),\n",
       " 1: Counter({'speech': 1, 'man woman': 1}),\n",
       " 2: Counter({'wolf': 4, 'rabbit': 2, 'vegetable': 2})}"
      ]
     },
     "execution_count": 14,
     "metadata": {},
     "output_type": "execute_result"
    }
   ],
   "source": [
    "m2.vocab_unknown_entities"
   ]
  },
  {
   "cell_type": "code",
   "execution_count": 15,
   "id": "312dec56",
   "metadata": {},
   "outputs": [
    {
     "name": "stdout",
     "output_type": "stream",
     "text": [
      "\n",
      "Predicting entities for role: ARG0...\n",
      "Matching known entities (with character matching)...\n"
     ]
    },
    {
     "name": "stderr",
     "output_type": "stream",
     "text": [
      "100%|█████████████████████████████████████████████████████████████████████████████████████████████████████████████████████████████████████████████████████████████████████| 7/7 [00:00<00:00, 78085.45it/s]\n"
     ]
    },
    {
     "name": "stdout",
     "output_type": "stream",
     "text": [
      "Matching unknown entities (with embeddings distance)...\n",
      "Computing phrase embeddings...\n"
     ]
    },
    {
     "name": "stderr",
     "output_type": "stream",
     "text": [
      "100%|███████████████████████████████████████████████████████████████████████████████████████████████████████████████████████████████████████████████████████████████████████| 7/7 [00:00<00:00, 445.79it/s]\n"
     ]
    },
    {
     "name": "stdout",
     "output_type": "stream",
     "text": [
      "Matching unknown entities (with embeddings distance)...\n",
      "Computing phrase embeddings...\n"
     ]
    },
    {
     "name": "stderr",
     "output_type": "stream",
     "text": [
      "100%|███████████████████████████████████████████████████████████████████████████████████████████████████████████████████████████████████████████████████████████████████████| 7/7 [00:00<00:00, 360.42it/s]\n"
     ]
    },
    {
     "name": "stdout",
     "output_type": "stream",
     "text": [
      "Assigning labels to matches...\n",
      "\n",
      "Predicting entities for role: ARG1...\n",
      "Matching known entities (with character matching)...\n"
     ]
    },
    {
     "name": "stderr",
     "output_type": "stream",
     "text": [
      "100%|█████████████████████████████████████████████████████████████████████████████████████████████████████████████████████████████████████████████████████████████████████| 6/6 [00:00<00:00, 72733.60it/s]\n"
     ]
    },
    {
     "name": "stdout",
     "output_type": "stream",
     "text": [
      "Matching unknown entities (with embeddings distance)...\n",
      "Computing phrase embeddings...\n"
     ]
    },
    {
     "name": "stderr",
     "output_type": "stream",
     "text": [
      "100%|███████████████████████████████████████████████████████████████████████████████████████████████████████████████████████████████████████████████████████████████████████| 6/6 [00:00<00:00, 422.46it/s]\n"
     ]
    },
    {
     "name": "stdout",
     "output_type": "stream",
     "text": [
      "Matching unknown entities (with embeddings distance)...\n",
      "Computing phrase embeddings...\n"
     ]
    },
    {
     "name": "stderr",
     "output_type": "stream",
     "text": [
      "100%|███████████████████████████████████████████████████████████████████████████████████████████████████████████████████████████████████████████████████████████████████████| 6/6 [00:00<00:00, 427.94it/s]\n"
     ]
    },
    {
     "name": "stdout",
     "output_type": "stream",
     "text": [
      "Assigning labels to matches...\n"
     ]
    },
    {
     "data": {
      "text/plain": [
       "[{'ARG0': 'wolf', 'B-V': 'eat', 'ARG1': 'wolf'},\n",
       " {'ARG0': 'wolf', 'B-V': 'eat', 'ARG1': 'wolf'},\n",
       " {'ARG0': 'wolf', 'B-V': 'eat', 'ARG1': 'wolf'},\n",
       " {},\n",
       " {'ARG0': 'wolf', 'B-V': 'eat', 'B-ARGM-NEG': True, 'ARG1': 'wolf'},\n",
       " {'ARG0': 'tree', 'B-V': 'provide', 'ARG1': 'wood'},\n",
       " {'ARG0': 'president obama', 'ARG1': 'speech'},\n",
       " {'ARG0': 'man woman', 'B-V': 'fight', 'ARG2': 'right', 'ARG1': 'speech'}]"
      ]
     },
     "execution_count": 15,
     "metadata": {},
     "output_type": "execute_result"
    }
   ],
   "source": [
    "m2.predict(postproc_roles, progress_bar = True)"
   ]
  }
 ],
 "metadata": {
  "kernelspec": {
   "display_name": "Python 3 (ipykernel)",
   "language": "python",
   "name": "python3"
  },
  "language_info": {
   "codemirror_mode": {
    "name": "ipython",
    "version": 3
   },
   "file_extension": ".py",
   "mimetype": "text/x-python",
   "name": "python",
   "nbconvert_exporter": "python",
   "pygments_lexer": "ipython3",
   "version": "3.7.13"
  }
 },
 "nbformat": 4,
 "nbformat_minor": 5
}
